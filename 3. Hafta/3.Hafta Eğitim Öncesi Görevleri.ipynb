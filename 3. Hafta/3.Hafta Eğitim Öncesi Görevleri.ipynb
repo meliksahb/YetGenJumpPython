{
  "cells": [
    {
      "cell_type": "markdown",
      "metadata": {
        "id": "tsD4YVAe_Te2"
      },
      "source": [
        "# Problem 1\n",
        "Bir sayının 7'ye bölünebilir olup olmadığını kontrol etmek \n",
        "için bir program yazın.\n",
        "\n",
        "İpucu: Mod operatörünü (%) kullanabilirsiniz."
      ]
    },
    {
      "cell_type": "code",
      "execution_count": 28,
      "metadata": {
        "id": "NGjvNwKx_Te7"
      },
      "outputs": [
        {
          "name": "stdout",
          "output_type": "stream",
          "text": [
            "Sayı 7'ye bölünemez.\n"
          ]
        }
      ],
      "source": [
        "# 1.Problemin Çözümünü Buraya Yazınız\n",
        "ask = float(input(\"Bir sayı giriniz : \"))\n",
        "if a % 7 == 0:\n",
        "    print(\"Sayı /'ye bölünebilir.\")\n",
        "else:\n",
        "    print(\"Sayı 7'ye bölünemez.\")"
      ]
    },
    {
      "cell_type": "markdown",
      "metadata": {
        "id": "Kg3qiBAI_Te8"
      },
      "source": [
        "# Problem 2\n",
        "Kullanıcıdan vize ve final notu isteyin. Girilen vize notunun %40’ı ve \n",
        "girilen finalnotunun ise %60’ı alınarak yıl sonu not ortalaması hesaplanacaktır. \n",
        "\n",
        "Bu not ortalaması eğer 85 ve üzeri ise AA, \n",
        "\n",
        "75 ve 85 arasında ise BA, \n",
        "\n",
        "70 ve 75 arasında ise BB, \n",
        "\n",
        "65 ve 70 arasında ise CB,\n",
        "\n",
        "60 ve 65 arasında ise CC,\n",
        "\n",
        "55 ve 60 arasında ise DC,\n",
        "\n",
        "50 ve 55 arasında ise DD olarak hesaplanacaktır. \n",
        "\n",
        "Bu öğrencinin yıl sonu toplam notu 50’nin altında ise FF ile dersten kalacaktır. \n",
        "\n",
        "Ayrıca öğrencinin final notu 50’nin altında ise direkt FF ile kalacaktır."
      ]
    },
    {
      "cell_type": "code",
      "execution_count": 29,
      "metadata": {
        "id": "MXTtCxI1_Te8"
      },
      "outputs": [
        {
          "name": "stdout",
          "output_type": "stream",
          "text": [
            "CC\n"
          ]
        }
      ],
      "source": [
        "# 2.Problemin Çözümünü Buraya Yazınız\n",
        "bu = int(input(\"Vize notunuz : \"))\n",
        "kizilötesi = int(input(\"Final notunuz : \"))\n",
        "yaraliMüzesi = bu*0.4 + kizilötesi*0.6\n",
        "if kizilötesi < 50:\n",
        "    print(\"FF\")\n",
        "elif yaraliMüzesi >= 85:\n",
        "    print(\"AA\")\n",
        "elif 75<= yaraliMüzesi < 85:\n",
        "    print(\"BA\")\n",
        "elif 70<= yaraliMüzesi <75:\n",
        "    print(\"BB\")\n",
        "elif 65<= yaraliMüzesi <70:\n",
        "    print(\"CB\")\n",
        "elif 60<= yaraliMüzesi <65:\n",
        "    print(\"CC\")\n",
        "elif 55<= yaraliMüzesi < 60:\n",
        "    print(\"DC\")\n",
        "elif 50<= yaraliMüzesi <55:\n",
        "    print(\"DD\")\n",
        "elif yaraliMüzesi < 50:\n",
        "    print(\"FF\")"
      ]
    },
    {
      "cell_type": "markdown",
      "metadata": {
        "id": "tAoRYCTC_Te8"
      },
      "source": [
        "# Problem 3\n",
        "İki YetGenli Zirve'de karşılaşıyorlar. Birbirlerini tanımak için sorular soruyorlar. Birbirlerine yaşlarını soruyorlar. Akıllarına bir Python programı yazıp, yaşlarını ve isimlerini giriyorlar. Büyük olanın yaşını ekrana yazdıran programı yazıyorlar. Sende bu iki YetGenli'ye destek olmak ister misin?\n",
        "\n",
        "```\n",
        "Birinci YetGenlinin ismi: Ahmet\n",
        "Birinci YetGenlinin yaşı : 20\n",
        "İkinci YetGenlinin ismi: Mehmet\n",
        "İkinci YetGenlinin yaşı : 25\n",
        "Mehmet'in yaşı daha büyük ve yaşı 25'tir.\n",
        "```"
      ]
    },
    {
      "cell_type": "code",
      "execution_count": 30,
      "metadata": {
        "id": "bPjE8W0i_Te8"
      },
      "outputs": [
        {
          "name": "stdout",
          "output_type": "stream",
          "text": [
            "Melikşah  ve  Melikşah  aynı yaştadır ve yaşları:  23\n"
          ]
        }
      ],
      "source": [
        "# 3.Problemin Çözümünü Buraya Yazınız\n",
        "hareket = input(\"İsminizi giriniz: \")\n",
        "edemem = int(input(\"Yaşınızı giriniz: \"))\n",
        "acilarim = input(\"İsminizi giriniz: \")\n",
        "heveste = int(input(\"Yaşınızı giriniz: \"))\n",
        "if edemem > heveste:\n",
        "    print(\"İsmi \", hareket, \" olanın yaşı daha büyük ve yaşı: \",edemem)\n",
        "elif edemem == heveste:\n",
        "    print(hareket,\" ve \",acilarim,\" aynı yaştadır ve yaşları: \",edemem)\n",
        "else:\n",
        "    print(\"İsmi \", acilarim, \" olanın yaşı daha büyük ve yaşı: \",heveste)"
      ]
    },
    {
      "cell_type": "markdown",
      "metadata": {
        "id": "zBVv8Tyg_Te9"
      },
      "source": [
        "# Problem 4\n",
        "Pandemi döneminde AVM'lerde ateş ölçümü yapılıyor. AVM'ye giren kişinin ateş ölçümü 37.5 derecenin altında ise girişe izin veriliyor. 37.5 derecenin üstünde ise girişe izin verilmiyor. AVM'ye girişe izin verilip verilmediğini ekrana yazdıran bir program yazın.\n",
        "\n",
        "Program sonunda şöyle bir çıktı elde etmelisiniz:\n",
        "\n",
        "```\n",
        "Ateşiniz 37.5 derece. AVM'ye girebilirsin! Maske takmayı unutma!\n",
        "Ateşiniz 37.6 derece. AVM'ye giremezsin! Hemen evine dön!\n",
        "```"
      ]
    },
    {
      "cell_type": "code",
      "execution_count": 31,
      "metadata": {
        "id": "TSAXs8et_Te9"
      },
      "outputs": [
        {
          "name": "stdout",
          "output_type": "stream",
          "text": [
            "Ateşiniz:  36.0 . AVM'ye girebilirsin! Maske takmayı unutma\n"
          ]
        }
      ],
      "source": [
        "# 4.Problemin Çözümünü Buraya Yazınız\n",
        "günes = float(input(\"Vücut sıcaklığınız\"))\n",
        "if günes >= 37.5:\n",
        "    print(\"Ateşiniz: \",ates,\". AVM'ye giremezsiniz! Hemen evine dön!\")\n",
        "elif günes < 35:\n",
        "    print(\"Hala yaşıyor musun?\")\n",
        "else:\n",
        "    print(\"Ateşiniz: \",günes,\". AVM'ye girebilirsin! Maske takmayı unutma\")"
      ]
    },
    {
      "cell_type": "markdown",
      "metadata": {
        "id": "6AEkZrDt_Te9"
      },
      "source": [
        "# Problem 5\n",
        "YetGen bir spor kulübüyle sponsorluk anlaşması yapıyor. Kulüp, sponsorluk anlaşmasına göre her YetGen liderinin beden kitle indeksini hesaplamak istiyor. Spor kulübü, beden kitle indeksini hesaplamak için YetGen Jump Python liderlerinden Berkcan ve Ahmet'i arıyor. Berkcan ve Ahmet, kulübe yardımcı olmak için bir Python programı yazıyorlar. Sende bu iki YetGen liderine destek olmak ister misin?\n",
        "\n",
        "Kullanıcıdan alınan boy ve kilo değerlerine göre beden kitle indeksini hesaplayın ve şu kurallara göre ekrana şu yazıları yazdırın.\n",
        "\n",
        "\n",
        "Beden Kitle İndeksi, kişinin ağırlığının (kg olarak) boyunun karesine (m olarak) bölünmesiyle hesaplanır.\n",
        "\n",
        "\n",
        "```\n",
        " BKİ 18.5'un altındaysa -------> Zayıf\n",
        "\n",
        " BKİ 18.5 ile 25 arasındaysa ------> Normal\n",
        "\n",
        " BKİ 25 ile 30 arasındaysa --------> Fazla Kilolu\n",
        "\n",
        " BKİ 30'un üstündeyse -------------> Obez\n",
        "```\n",
        "\n"
      ]
    },
    {
      "cell_type": "code",
      "execution_count": 32,
      "metadata": {
        "id": "t-XPI_u0_Te-"
      },
      "outputs": [
        {
          "name": "stdout",
          "output_type": "stream",
          "text": [
            "Normal\n"
          ]
        }
      ],
      "source": [
        "# 5.Problemin Çözümünü Buraya Yazınız\n",
        "acar = float(input(\"Kilonuz (kg): \"))\n",
        "aheste = float(input(\"Boyunuz (m): \"))\n",
        "birKapali = acar/aheste**2\n",
        "if birKapali <= 18.5:\n",
        "    print(\"Zayıf\")\n",
        "elif 18.5 < birKapali <=25:\n",
        "    print(\"Normal\")\n",
        "elif 25 < birKapali <= 30:\n",
        "    print(\"Fazla Kilolu\")\n",
        "elif birKapali > 30:\n",
        "    print(\"Obez\") "
      ]
    },
    {
      "cell_type": "markdown",
      "metadata": {
        "id": "oFsvQyaO_Te-"
      },
      "source": [
        "# Problem 6\n",
        "Kullanıcıdan isim, yaş ve eğitim bilgilerini isteyip ehliyet alabilme  durumunu kontrol ediniz. \n",
        "\n",
        "Ehliyet alma koşulu en az 18 yaşında ve eğitim durumu lise ya da üniversite olmalıdır. "
      ]
    },
    {
      "cell_type": "code",
      "execution_count": 33,
      "metadata": {
        "id": "Tu2mcgco_Te-"
      },
      "outputs": [
        {
          "name": "stdout",
          "output_type": "stream",
          "text": [
            "Melikşah ehliyet alabilir.\n"
          ]
        }
      ],
      "source": [
        "# 6.Problemin Çözümünü Buraya Yazınız\n",
        "kafesteyim = input(\"İsminiz\")\n",
        "toputopu = int(input(\"Yaşınız: \"))\n",
        "birDeste = input(\"Eğitim durumunuz: \")\n",
        "araSira = (\"Lise\",\"Üniversite\") \n",
        "if toputopu >= 18 and birDeste in araSira:\n",
        "    print(kafesteyim, \"ehliyet alabilir.\")\n",
        "else:\n",
        "    print(\"Ehliyet almak için geçerli şartları sağlamıyorsunuz.\")"
      ]
    },
    {
      "cell_type": "markdown",
      "metadata": {
        "id": "eUkxVSAE_Te_"
      },
      "source": [
        "# Problem 7\n",
        "Bir yılın artık yıl olup olmadığını kontrol etmek için bir program yazın. \n",
        "Artık yıl kuralı:\n",
        "\n",
        "a) Eğer yılın son iki basamağı (00) ile bitmiyor ve yalnızca 4'e tam bölünüyorsa artık yıldır. Ya da, \n",
        "\n",
        "b) Eğer yıl 400'e tam bölünüyorsa artık yıldır.\n",
        "\n",
        "**Örneğin**\n",
        "```\n",
        "2017 artık yıl değildir.\n",
        "1900 artık yıl değildir\n",
        "2012 artık yıldır.\n",
        "2000 artık yıldır.\n",
        "```"
      ]
    },
    {
      "cell_type": "code",
      "execution_count": 34,
      "metadata": {
        "id": "4uWh8qUL_Te_"
      },
      "outputs": [
        {
          "name": "stdout",
          "output_type": "stream",
          "text": [
            "2023 artık yıl değildir.\n"
          ]
        }
      ],
      "source": [
        "# 7.Problemin Çözümünü Buraya Yazınız\n",
        "biBesle = int(input(\"Yıl: \"))\n",
        "if biBesle % 100 != 0 and biBesle % 4 == 0:\n",
        "    print(biBesle,\"artık yıldır.\")\n",
        "elif biBesle % 400 == 0:\n",
        "    print(biBesle,\"artık yıldır.\")\n",
        "else:\n",
        "    print(biBesle,\"artık yıl değildir.\")"
      ]
    },
    {
      "cell_type": "code",
      "execution_count": 35,
      "metadata": {},
      "outputs": [
        {
          "name": "stdout",
          "output_type": "stream",
          "text": [
            "Seni çöpe atacağım poşete yazık\n",
            "Bi sigara yakacağım ateşe yazık\n",
            "Aşk, gidene acımak mı?\n",
            "Bu yükü taşımak mı?\n",
            "Yarayı kaşımak mı?\n",
            "Sor, iyisi çıkacak mı?\n",
            "İçime akacak mı?\n",
            "Ve güneş açacak mı?\n"
          ]
        }
      ],
      "source": [
        "birBesteyim = (\"Seni çöpe atacağım poşete yazık\",\"Bi sigara yakacağım ateşe yazık\",\"Aşk, gidene acımak mı?\",\"Bu yükü taşımak mı?\",\"Yarayı kaşımak mı?\",\"Sor, iyisi çıkacak mı?\",\"İçime akacak mı?\",\"Ve güneş açacak mı?\")\n",
        "for ikiNota in birBesteyim:\n",
        "    print(ikiNota)"
      ]
    }
  ],
  "metadata": {
    "colab": {
      "provenance": []
    },
    "kernelspec": {
      "display_name": "Python 3.10.5 64-bit",
      "language": "python",
      "name": "python3"
    },
    "language_info": {
      "codemirror_mode": {
        "name": "ipython",
        "version": 3
      },
      "file_extension": ".py",
      "mimetype": "text/x-python",
      "name": "python",
      "nbconvert_exporter": "python",
      "pygments_lexer": "ipython3",
      "version": "3.11.0"
    },
    "orig_nbformat": 4,
    "vscode": {
      "interpreter": {
        "hash": "5026d2d6e7aaaaba093def813beadff083d8733e4a511af01735cbabd156995d"
      }
    }
  },
  "nbformat": 4,
  "nbformat_minor": 0
}
