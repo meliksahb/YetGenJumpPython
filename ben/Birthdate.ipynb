{
 "cells": [
  {
   "cell_type": "code",
   "execution_count": 12,
   "metadata": {},
   "outputs": [
    {
     "name": "stdout",
     "output_type": "stream",
     "text": [
      "22y0mo\n"
     ]
    }
   ],
   "source": [
    "from datetime import date\n",
    "import datetime\n",
    "dob = datetime.datetime.strptime(\"02-19-2001\", '%m-%d-%Y')\n",
    "now = datetime.datetime.now()\n",
    "years = now.year - dob.year\n",
    "months = now.month - dob.month\n",
    "if now.day < dob.day:\n",
    "    months -= 1\n",
    "while months < 0:\n",
    "    months += 12\n",
    "    years -= 1\n",
    "age = '{}y{}mo'.format(years, months)\n",
    "print(age)"
   ]
  }
 ],
 "metadata": {
  "kernelspec": {
   "display_name": "Python 3",
   "language": "python",
   "name": "python3"
  },
  "language_info": {
   "codemirror_mode": {
    "name": "ipython",
    "version": 3
   },
   "file_extension": ".py",
   "mimetype": "text/x-python",
   "name": "python",
   "nbconvert_exporter": "python",
   "pygments_lexer": "ipython3",
   "version": "3.11.0"
  },
  "orig_nbformat": 4
 },
 "nbformat": 4,
 "nbformat_minor": 2
}
