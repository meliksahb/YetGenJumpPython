{
 "cells": [
  {
   "cell_type": "markdown",
   "metadata": {},
   "source": [
    "# Problem 1\n",
    "`ogrenciler` adında bir sözlük oluşturunuz. Kullanıcıdan döngü yardımıyla 3 öğrenci için veri girmesini isteyerek öğrencilerin sırasıyla okul numarası, isim, soy isim, telefon numarası ve doğum tarihi bilgilerini alınız. Aldığınız öğrenci bilgilerini yine aynı döngü yardımıyla `ogrenciler` adındaki sözlükte saklayınız. Daha sonra öğrenci bilgilerinin bulunduğu sözlük yapısını ekrana bastırınız.\n",
    "\n"
   ]
  },
  {
   "cell_type": "code",
   "execution_count": 19,
   "metadata": {},
   "outputs": [
    {
     "name": "stdout",
     "output_type": "stream",
     "text": [
      "{'Okul No: ': [113226524, 2635495], 'İsim': ['Deniz', 'Kardelen'], 'Soyad: ': ['Atik', 'Ağdağ'], 'Telefon No :': [21654959, 21654], 'Doğum Tarihi: ': ['17.03.1998', '22.09.2000']}\n"
     ]
    }
   ],
   "source": [
    "# 1.Problemin Çözümünü Buraya Yazınız\n",
    "ogrenciler = {\"Okul No: \" : [],\"İsim\" : [], \"Soyad: \" : [],\"Telefon No :\" : [], \"Doğum Tarihi: \" : []}\n",
    "i = int(input(\"Öğrenci sayısı: \"))\n",
    "for a in range(i):\n",
    "    okulNo = int(input(\"Okul no: \"))\n",
    "    isim = input(\"İsim: \")\n",
    "    soyIsim = input(\"Soyisim: \")\n",
    "    telefonNo = int(input(\"Telefon No: \"))\n",
    "    dogumT = input(\"Doğum Tarihi\")\n",
    "    ogrenciler[\"Okul No: \"].append(okulNo)\n",
    "    ogrenciler[\"İsim\"].append(isim)\n",
    "    ogrenciler[\"Soyad: \"].append(soyIsim)\n",
    "    ogrenciler[\"Telefon No :\"].append(telefonNo)\n",
    "    ogrenciler[\"Doğum Tarihi: \"].append(dogumT)\n",
    "print(ogrenciler)\n",
    "\n",
    "ogrenciler = {}\n",
    "N = int(input(\"Öğrenci Sayısı: \"))\n",
    "for b in range(N):\n",
    "    ogrenci_no = input(\"{}. öğrencinin okul numarasını giriniz: \".format(i+1))\n",
    "    isim = input(\"{}. öğrencinin ismini giriniz: \".format(i+1))\n",
    "    soyisim = input(\"{}. öğrencinin soyismini giriniz: \".format(i+1))\n",
    "    telefon = input(\"{}. öğrencinin telefon numarasını giriniz: \".format(i+1))\n",
    "    dogum_tarihi = input(\"{}. öğrencinin doğum tarihini giriniz (gg.aa.yyyy): \".format(i+1))\n",
    "    \n",
    "    ogrenciler[ogrenci_no] = {\"isim\": isim, \"soyisim\": soyisim, \"telefon\": telefon, \"dogum_tarihi\": dogum_tarihi}\n",
    "\n",
    "print(ogrenciler)"
   ]
  },
  {
   "cell_type": "markdown",
   "metadata": {},
   "source": [
    "# Problem 2\n",
    "\n",
    "### a - Biraz ısınarak başlayalım!\n",
    "\n",
    "```\n",
    "numbers = [5,10,10,15,15,15,20,20,20,20]\n",
    "```\n",
    "\n",
    "Yukarıda `numbers` adında 10 elemanlı bir liste verilmiştir. Bu listenin her elemanını kontrol eden ve tekrar eden elemanları bir kez olacak şekilde başka bir listeye kopyalayan bir program yazınız. Son olarak oluşturduğunuz listeyi ekrana bastırınız.\n",
    "\n",
    "\n",
    "\n",
    "\n",
    "```\n",
    ">Output\n",
    "[5, 10, 15, 20]\n",
    "```\n"
   ]
  },
  {
   "cell_type": "code",
   "execution_count": 2,
   "metadata": {},
   "outputs": [
    {
     "name": "stdout",
     "output_type": "stream",
     "text": [
      "[5, 10, 15, 20]\n"
     ]
    }
   ],
   "source": [
    "numbers = [5, 10, 10, 15, 15, 15, 20, 20, 20, 20]\n",
    "num = []\n",
    "\n",
    "for number in numbers:\n",
    "    if number not in num:\n",
    "        num.append(number)\n",
    "\n",
    "print(num)\n",
    "\n"
   ]
  },
  {
   "cell_type": "markdown",
   "metadata": {},
   "source": [
    "### 🌶️ b) Hadi işi biraz daha zorlaştıralım! \n",
    "\n",
    "\n",
    "Şimdiyse senden `numbers` isimli listedeki tekrar eden elemanları `repeatNumbers` adındaki listeye; tekrar etmeyen elemanları `uniqueNumbers`adındaki listeye kopyalayan yazmanı ve listeleri ekrana bastırmanı bekliyoruz\n",
    "\n",
    "```\n",
    ">Output\n",
    "Tekrar Eden Elemanlar: [10, 10, 15, 15, 15, 20, 20, 20, 20]\n",
    "Tekrar Etmeyen Elemanlar: [5]\n",
    "```"
   ]
  },
  {
   "cell_type": "code",
   "execution_count": 6,
   "metadata": {},
   "outputs": [
    {
     "name": "stdout",
     "output_type": "stream",
     "text": [
      "Tekrar Etmeyen Elemanlar: [5]\n",
      "Tekrar eden elemanlar: [10, 15, 20]\n"
     ]
    }
   ],
   "source": [
    "# 2.Problemin b Şıkkının Çözümünü Buraya Yazınız\n",
    "numbers = [5, 10, 10, 15, 15, 15, 20, 20, 20, 20]\n",
    "unique_numbers = []\n",
    "repeat_numbers = []\n",
    "for num in numbers:\n",
    "    if num not in unique_numbers:\n",
    "        unique_numbers.append(num)\n",
    "    else:\n",
    "        repeat_numbers.append(num)\n",
    "\n",
    "print(\"Tekrar Etmeyen Elemanlar:\", list(set(numbers) - set(repeat_numbers)))\n",
    "print(\"Tekrar eden elemanlar:\", repeat_numbers)\n"
   ]
  },
  {
   "cell_type": "markdown",
   "metadata": {},
   "source": [
    "# Problem 3\n",
    "sn1 = {1,2,3,4,5}\n",
    "\n",
    "sn2 = {4,5,6,7,8}\n",
    "\n",
    " Verilen 2 adet küme için kesişimlerini, farklarını ve birleşimlerini bulunuz. "
   ]
  },
  {
   "cell_type": "code",
   "execution_count": 17,
   "metadata": {},
   "outputs": [
    {
     "name": "stdout",
     "output_type": "stream",
     "text": [
      "Kesişim:  {4, 5}\n",
      "sn1 Fark sn2:  {1, 2, 3}\n",
      "sn2 Fark sn1:  {8, 6, 7}\n",
      "Birleşim:  {1, 2, 3, 4, 5, 6, 7, 8}\n"
     ]
    }
   ],
   "source": [
    "# 3.Problemin Çözümünü Buraya Yazınız\n",
    "sn1 = {1, 2, 3, 4, 5}\n",
    "sn2 = {4, 5, 6, 7, 8}\n",
    "\n",
    "kesisim = sn1.intersection(sn2)\n",
    "fark1 = sn1.difference(sn2)\n",
    "fark2 = sn2.difference(sn1)\n",
    "birlesim = sn1.union(sn2)\n",
    "\n",
    "print(\"Kesişim: \", kesisim)\n",
    "print(\"sn1 Fark sn2: \", fark1)\n",
    "print(\"sn2 Fark sn1: \", fark2)\n",
    "print(\"Birleşim: \", birlesim)\n"
   ]
  },
  {
   "cell_type": "markdown",
   "metadata": {},
   "source": [
    "# Problem 4\n",
    "\n",
    "Buradaki işlemlerimizin tamamı stringler içindir. Aşağıda verilecek olan metodlar için kendinizin örnek yaratması gerekmektedir. \n",
    "\n",
    "Örneğin `upper` için `string` değişkeni oluştururken` k = \"BAC\"` şeklinde oluşturmayınız. Bunun yerine k değişkenini `k = \"bac`\" şeklinde oluşturmanız `upper` metodundaki değişimi görebilmeniz için daha iyi olacaktır.\n",
    "\n",
    "Bütün metodlardaki değişimin gözle görülür şekilde değişimi beklenmektedir.\n",
    "\n",
    "\n",
    "1- capitalize(), lower(), upper(), swapcase(), title(), replace()\n",
    "\n",
    "2- endswith(), startswith(), find(), index(), count()\n",
    "\n",
    "3- split(), strip(), join(), islower(), isalpha(), isdigit()\n",
    "\n",
    "\n",
    "Yukarıdaki `string` metodlarındaki değişimleri görebildiğimiz bir program yazınız.\n"
   ]
  },
  {
   "cell_type": "code",
   "execution_count": 23,
   "metadata": {},
   "outputs": [
    {
     "name": "stdout",
     "output_type": "stream",
     "text": [
      "capitalize(): Merhaba\n",
      "lower(): merhaba\n",
      "upper(): MERHABA\n",
      "swapcase(): mERHABA\n",
      "title(): Merhaba\n",
      "replace(): Berhaba\n",
      "endswith(): True\n",
      "startswith(): False\n",
      "find(): 1\n",
      "index(): 1\n",
      "count(): 1\n",
      "split(): ['Merhaba']\n",
      "strip(): Merhaba\n",
      "join(): M_e_r_h_a_b_a\n",
      "islower(): False\n",
      "isalpha(): True\n",
      "isdigit(): False\n"
     ]
    }
   ],
   "source": [
    "# 4.Problemin Çözümünü Buraya Yazınız\n",
    "kelime = input(\"Bir kelime veya cümle girin: \")\n",
    "\n",
    "# capitalize()\n",
    "print(\"capitalize():\", kelime.capitalize())\n",
    "\n",
    "# lower()\n",
    "print(\"lower():\", kelime.lower())\n",
    "\n",
    "# upper()\n",
    "print(\"upper():\", kelime.upper())\n",
    "\n",
    "# swapcase()\n",
    "print(\"swapcase():\", kelime.swapcase())\n",
    "\n",
    "# title()\n",
    "print(\"title():\", kelime.title())\n",
    "\n",
    "# replace()\n",
    "aranan = input(\"Değiştirilecek kelime veya harf: \")\n",
    "yeni = input(\"Yeni kelime veya harf: \")\n",
    "print(\"replace():\", kelime.replace(aranan, yeni))\n",
    "\n",
    "# endswith()\n",
    "son = input(\"Kelimelerin sonu hangi harf veya kelimeyle bitiyor?: \")\n",
    "print(\"endswith():\", kelime.endswith(son))\n",
    "\n",
    "# startswith()\n",
    "bas = input(\"Kelimelerin başı hangi harf veya kelimeyle başlıyor?: \")\n",
    "print(\"startswith():\", kelime.startswith(bas))\n",
    "\n",
    "# find()\n",
    "ara = input(\"Aranacak kelime veya harf: \")\n",
    "print(\"find():\", kelime.find(ara))\n",
    "\n",
    "# index()\n",
    "print(\"index():\", kelime.index((ara)))\n",
    "\n",
    "# count()\n",
    "say = input(\"Kaç tane '{}' kelimesi var?: \".format(ara))\n",
    "print(\"count():\", kelime.count(ara))\n",
    "\n",
    "# split()\n",
    "print(\"split():\", kelime.split())\n",
    "\n",
    "# strip()\n",
    "print(\"strip():\", kelime.strip())\n",
    "\n",
    "# join()\n",
    "ayirac = input(\"Kelime veya harfler arasına hangi karakteri kullanalım?: \")\n",
    "print(\"join():\", ayirac.join(kelime))\n",
    "\n",
    "# islower()\n",
    "print(\"islower():\", kelime.islower())\n",
    "\n",
    "# isalpha()\n",
    "print(\"isalpha():\", kelime.isalpha())\n",
    "\n",
    "# isdigit()\n",
    "print(\"isdigit():\", kelime.isdigit())\n",
    "\n",
    "\n",
    "\n"
   ]
  }
 ],
 "metadata": {
  "kernelspec": {
   "display_name": "Python 3.10.5 64-bit",
   "language": "python",
   "name": "python3"
  },
  "language_info": {
   "codemirror_mode": {
    "name": "ipython",
    "version": 3
   },
   "file_extension": ".py",
   "mimetype": "text/x-python",
   "name": "python",
   "nbconvert_exporter": "python",
   "pygments_lexer": "ipython3",
   "version": "3.11.0"
  },
  "orig_nbformat": 4,
  "vscode": {
   "interpreter": {
    "hash": "5026d2d6e7aaaaba093def813beadff083d8733e4a511af01735cbabd156995d"
   }
  }
 },
 "nbformat": 4,
 "nbformat_minor": 2
}
